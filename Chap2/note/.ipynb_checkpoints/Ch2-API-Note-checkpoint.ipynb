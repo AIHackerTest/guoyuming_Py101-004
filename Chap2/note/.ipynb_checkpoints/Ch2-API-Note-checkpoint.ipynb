{
 "cells": [
  {
   "cell_type": "markdown",
   "metadata": {},
   "source": [
    "你将会体验到：\n",
    "- 如何选择一个合适的 API\n",
    "- 使用 requests 模块来对 API 发送请求、传递参数、接受返回的数据\n",
    "- 处理 API 返回的数据，转换为 Python 中合适的数据结构\n",
    "\n",
    "API是可以调用的，那么这就涉及到从其他服务商、库、用户那里拿东西，调用的数据代替原本静态的txt文件，所以读取文件那段代码要被替换掉。AIP带有什么参数？返回的API数据结构如何？卡片继续问出了如下问题：\n",
    "\n",
    "- API 是什么，解决什么问题？API 一般接收什么输入，返回什么数据？互联网上有哪些类型的 API ？他们为什么要把 API 开放出来？\n",
    "\n",
    "简单的说，API让不同应用相互传输数据，相比共享代码，是更高效安全的方法。不同领域由于业务不同，开发者了解自身以外的领域，费力。比如前端和后台，数据库和客户端，调用API，不同领域开发者不需要了解底层原理，知道它的规则和功能就好，就像你用冰箱不会去先学制冷原理。API种类众多，比如软件库、语言包、web，本章涉及到web API，数据符合HTTP协议，JSON格式。\n",
    "\n",
    "requests 模块是你和 API 进行交互的主要工具。这是非常优秀的第三方网络模块，需要单独安装。安装好后，请你探索：\n",
    "- 如何在程序中引入 requests 模块？\n",
    "- 如何使用 requests 模块发送请求？\n",
    "- POST 和 GET 是什么意思？如何用 requests 模块发送 POST 或者 GET 请求？"
   ]
  },
  {
   "cell_type": "markdown",
   "metadata": {},
   "source": [
    "直接网站查看到API docs，看不懂，比如api.openweathermap.org/data/2.5/weather?q=London，\n",
    "这段应该是post一个请求出去，调用London的信息，点开这个链接是一串json文档，有类似dict类型中的key和value格式字段，这串数据应该是GET获得。天气API通常提供多个参数，比如城市名、ID、经纬度、编码，返回都是一样的数据格式－json文档。知道了发送和返回数据格式，如何与python结合，还是不知道，回到python查看 request 模块。卡片中提到request模块的特点：\n",
    "> Requests allows you to send organic, grass-fed HTTP/1.1 requests, without the need for manual labor. There's no need to manually add query strings to your URLs, or to form-encode your POST data. Keep-alive and HTTP connection pooling are 100% automatic, thanks to urllib3.\n",
    "\n",
    "不需要手动输入查询字符串，和http协议实时自动连接。这样开始玩耍requests，小步迭代，看卡包中的官方文档：pip install requests提示已经安装，但是又不能import，发现提示了路径，在之前安装的miniconda里面，要cd到这个文件夹才可以调用。import好之后，第一段指令：\n",
    "> r = requests.get('https://api.github.com/events')\n",
    "\n",
    "we have a Response object called r. We can get all the information we need from this object.这样获取一个object，想象成信息盒子，里面有所有需要的信息。对response解释如下：The Response object, which contains a server's response to an HTTP request.也就是Response object里面包含了http request发送请求之后，服务器回应的信息。Request下面有各种方法，用户最常用到的是post和get，嗯，这些都是点鼠标完成的。\n",
    "\n",
    "之前说过，API里面是一串文档，response object装有多种信息，如何用request只返回你要的信息呢？用参数传递：\n",
    "> If you were constructing the URL by hand, this data would be given as key/value pairs in the URL after a question mark, e.g. httpbin.org/get?key=val. \n",
    "\n",
    "厉害的来了：\n",
    "> Requests allows you to provide these arguments as a dictionary of strings, using the params keyword argument. As an example, if you wanted to pass key1=value1 and key2=value2 to httpbin.org/get, you would use the following code:"
   ]
  },
  {
   "cell_type": "code",
   "execution_count": null,
   "metadata": {
    "collapsed": true
   },
   "outputs": [],
   "source": [
    ">>> payload = {'key1': 'value1', 'key2': 'value2'}\n",
    ">>> r = requests.get('http://httpbin.org/get', params=payload)"
   ]
  },
  {
   "cell_type": "markdown",
   "metadata": {},
   "source": [
    "解决之道也许就在此段代码中，城市－天气是字典类数据，第一行和我们之前构建字典是一样的，第二行在get中调用这个字典。\n",
    "\n",
    "这样返回的数据，如何转化成用户易读的语言？文档接着介绍Response Content：用r.text来看返回的数据，CLI中试验了一下，返回无排版和解析的数据，用户应该难懂。后面终于迎来json格式的解读，r.json()返回json格式数据，还是一大串，但结构似乎更加有规律了，比如相容类型数据括号包围。\n",
    "\n",
    "到这里，再返回看看API文档，步骤是否会连起来呢？直接上手，在weather open map 上注册，得到33f65ff60f2eb1575caa188775e86c28 作为api key，相当于一个单位用户调用。"
   ]
  },
  {
   "cell_type": "code",
   "execution_count": null,
   "metadata": {
    "collapsed": true
   },
   "outputs": [],
   "source": [
    "r = requests.post('...')\n",
    "r = requests.get('https://api.openweathermap.org/data/2.5/weather?id=524901&APPID=33f65ff60f2eb1575caa188775e86c28')"
   ]
  },
  {
   "cell_type": "markdown",
   "metadata": {},
   "source": [
    "开始用了一个post，一个get，以为先验证身份，你需要提交表单，然后get会请求结果，两段代码跑着CLI，返回401错误，提示可能API key不对；对比docs发现只需要把api key 放在 get 请求中。于是成功。注意到以上url中，&分割参数，id是一个请求，意为用id去匹配，调回相应信息。那，手动配置的我用城市名称去匹配呢？换掉id："
   ]
  },
  {
   "cell_type": "code",
   "execution_count": null,
   "metadata": {
    "collapsed": true
   },
   "outputs": [],
   "source": [
    "r = requests.get('https://api.openweathermap.org/data/2.5/weather?q=London&APPID=33f65ff60f2eb1575caa188775e86c28')"
   ]
  },
  {
   "cell_type": "markdown",
   "metadata": {},
   "source": [
    "嗯啊，果然返回了伦敦的信息。接下来，如何构建动态请求，将用户输入转化成url？用户输入在这里看做上传参数，回顾request模块教程 passing parameters to url，试着模仿一个dict出来"
   ]
  },
  {
   "cell_type": "code",
   "execution_count": null,
   "metadata": {
    "collapsed": true
   },
   "outputs": [],
   "source": [
    ">>> payload = {'key1': 'value1', 'key2': 'value2'}\n",
    ">>> r = requests.get('http://httpbin.org/get', params=payload)\n",
    ">>> print(r.url)\n",
    "http://httpbin.org/get?key2=value2&key1=value1"
   ]
  },
  {
   "cell_type": "markdown",
   "metadata": {},
   "source": [
    "你看API docs里面说的：\n",
    "> api.openweathermap.org/data/2.5/weather?q=London\n",
    "\n",
    "问号后面内容是不是神相似，模仿它构建字典："
   ]
  },
  {
   "cell_type": "code",
   "execution_count": null,
   "metadata": {
    "collapsed": true
   },
   "outputs": [],
   "source": [
    "weather_dict = {'city_name':'weather'}\n",
    "r = requests.get('https://api.openweathermap.org/data/2.5/weather', params=weather_dict)\n",
    ">>> print(r.url)\n",
    "https://api.openweathermap.org/data/2.5/weather?city_name=weather"
   ]
  },
  {
   "cell_type": "markdown",
   "metadata": {},
   "source": [
    "等等，get时候用户不会输入？后面的内容啊，city_name和weather是你自己创建的变量，这里的params应该是docs里面有的参数，你混淆了，改成"
   ]
  },
  {
   "cell_type": "code",
   "execution_count": null,
   "metadata": {
    "collapsed": true
   },
   "outputs": [],
   "source": [
    "weather_dict = {'q':'city_name'}\n",
    "r = requests.get('https://api.openweathermap.org/data/2.5/weather', params=weather_dict)"
   ]
  },
  {
   "cell_type": "markdown",
   "metadata": {},
   "source": [
    "这样可以依据城市来调用信息，如何把api key加上？request模块让你一次传递多个参数, 例如\n",
    "> \n",
    ">>> payload = {'key1': 'value1', 'key2': ['value2', 'value3']}\n",
    ">>> r = requests.get('http://httpbin.org/get', params=payload)\n",
    ">>> print(r.url)\n",
    "http://httpbin.org/get?key1=value1&key2=value2&key2=value3\n",
    "\n",
    "于是改成："
   ]
  },
  {
   "cell_type": "code",
   "execution_count": null,
   "metadata": {
    "collapsed": true
   },
   "outputs": [],
   "source": [
    "weather_dict = {'q':'city_name', 'APPID':'33f65ff60f2eb1575caa188775e86c28'}\n",
    "r = requests.get('https://api.openweathermap.org/data/2.5/weather', params=weather_dict)\n",
    "print(r.url)"
   ]
  },
  {
   "cell_type": "markdown",
   "metadata": {},
   "source": [
    "至此，get response data已经搞定，还剩两大问题：1. 如何随用户输入改变｛｝中city_name参数; 2. 如何解析response data，输出用户易懂的语句。问题一，dict属于mutable objects，所以可以试着改变里面的value，另外一种更简单的方法，用format string来构建url中的字符串。\n",
    "\n",
    "先用简单的方法二构建 用户输入－动态url："
   ]
  },
  {
   "cell_type": "code",
   "execution_count": null,
   "metadata": {
    "collapsed": true
   },
   "outputs": [],
   "source": [
    "#!/usr/bin/env python3\n",
    "# -*- coding: utf-8 -*- \n",
    "\n",
    "import requests \n",
    "\n",
    "city_name = input('> ')\n",
    "query_url = str(f'https://api.openweathermap.org/data/2.5/weather?q={city_name}&APPID=33f65ff60f2eb1575caa188775e86c28')\n",
    "r = requests.get(query_url)\n",
    "print(r.url)\n",
    "r.json() # 这个命令不会返回数据在CLI里面，其实已经返回了（读取文件和直接命令行输入代码执行不同），用print大法发现返回成功。"
   ]
  },
  {
   "cell_type": "markdown",
   "metadata": {},
   "source": [
    "剩下的大问题，如何解析json object，docs没有思路，搜索：python3 decode json as mapping user input\n",
    "\n",
    "后来照着这段代码写：parsed_json = json.loads(json_string)\n",
    "\n",
    "报错“TypeError: the JSON object must be str, bytes or bytearray, not 'dict'”也就是说如果你要load一个json object，这个object应该是str, bytes or bytearray这三种类型数据，而非dict。只是dict正是我们需要的数据类型啊。原来r.json()这个命令返回的格式已经是dict，观察print结果也可以看出来。"
   ]
  },
  {
   "cell_type": "code",
   "execution_count": null,
   "metadata": {
    "collapsed": true
   },
   "outputs": [],
   "source": [
    "json_string = '{\"first_name\": \"Guido\", \"last_name\":\"Rossum\"}'\n",
    "import json\n",
    "parsed_json = json.loads(json_string)\n",
    "print(parsed_json['first_name'])\n",
    "\"Guido\""
   ]
  },
  {
   "cell_type": "markdown",
   "metadata": {},
   "source": [
    "在我的代码中，其实已经实现了第三行，从第四行开始又看见转机，也就是[]直接取key，输出value，和字典一样。于是尝试：\n",
    "> print(weather_response['weather'['main']])\n",
    "TypeError: string indices must be integers\n",
    "\n",
    ">print(weather_response['weather'[int(1)]])\n",
    "KeyError: 'e'\n",
    "\n",
    "先来观察返回的json：\n",
    "> {'coord': {'lon': -0.13, 'lat': 51.51}, 'weather': [{'id': 804, 'main': 'Clouds', 'description': 'overcast clouds', 'icon': '04d'}]\n",
    ", 'base': 'stations', 'main': {'temp': 291.69, 'pressure': 1020, 'humidity': 82, 'temp_min': 290.15, 'temp_max': 293.15}, 'visibili\n",
    "ty': 10000, 'wind': {'speed': 0.5}, 'clouds': {'all': 90}, 'dt': 1503393660, 'sys': {'type': 1, 'id': 5091, 'message': 0.0074, 'cou\n",
    "ntry': 'GB', 'sunrise': 1503377877, 'sunset': 1503428847}, 'id': 2643743, 'name': 'London', 'cod': 200}\n",
    "\n",
    "最外层是个字典，[weather]返回冒号后面一长串，错误一错在套用[weather]，以为里面再索引一个main，就取出cloud来了；而'weather'['main']被python理解成字符串中取值，所以提示string indices must be integers；\n",
    "\n",
    "错误二KeyError: 'e'发生，是说你想要的key不在dict中，无法找到对应。而后在stackflow上看到这段：\n",
    "> >>> obj = ['abc', {'a', 'b': 2}]\n",
    ">>> type(obj)\n",
    "list\n",
    ">>> obj[1]['b']\n",
    "2\n",
    "\n",
    "它取了list中第一个值，这个值是个dict，再区dict中的‘b’作key，结果输出2，那么我的改成：\n",
    "> print(weather_response['weather'][0]['main'])\n",
    "\n",
    "取weather这个dict对应的value，它的value是个list，里面包裹一个元素，index＝0，元素是个dict，用main作为key取值，结果输出cloud。至此第二个问题解决。再让输出好看一些，整合进完整代码："
   ]
  },
  {
   "cell_type": "code",
   "execution_count": null,
   "metadata": {
    "collapsed": true
   },
   "outputs": [],
   "source": [
    "#!/usr/bin/env python3\n",
    "# -*- coding: utf-8 -*- \n",
    "\n",
    "import requests, json\n",
    "\n",
    "# testing blocks\n",
    "#weather_dict = {'q':'city_name', 'APPID':'33f65ff60f2eb1575caa188775e86c28'}\n",
    "#r = requests.get('https://api.openweathermap.org/data/2.5/weather', params=weather_dict)\n",
    "#print(r.url)\n",
    "\n",
    "city_name = input('> ')\n",
    "query_url = str(f'https://api.openweathermap.org/data/2.5/weather?q={city_name}&APPID=33f65ff60f2eb1575caa188775e86c28')\n",
    "r = requests.get(query_url)\n",
    "#print(r.url)\n",
    "weather_response = r.json()\n",
    "\n",
    "weather_condition = weather_response['weather'][0]['main']\n",
    "\n",
    "weather_broadcasting = str(f'{city_name}: {weather_condition}')\n",
    "\n",
    "print(weather_broadcasting)"
   ]
  },
  {
   "cell_type": "markdown",
   "metadata": {},
   "source": [
    "融合Ch1的程序跑起来，本想调用，可是全英文界面和交互，无法调用，重新写一个，等到下一版用中文API，或用现在这个API的英文参数设置。if一直往下写，遇到问题，如何排除异常输入，Ch1中可以判断key在不在静态文件中，现在是不知道API的city list中有哪些值，如何判断用户输入是API可用城市，输入非城市名或未收入城市如何判断，你不好写两个else语句，想到再Ch0猜数字时候，用try做过异常输入处理。在stackflow上看到一种方法："
   ]
  },
  {
   "cell_type": "code",
   "execution_count": null,
   "metadata": {
    "collapsed": true
   },
   "outputs": [],
   "source": [
    "> try:\n",
    "    connection = manager.connect(\"I2Cx\")\n",
    "except KeyError, e:\n",
    "    print 'I got a KeyError - reason \"%s\"' % str(e)"
   ]
  },
  {
   "cell_type": "markdown",
   "metadata": {},
   "source": [
    "目测适合用来排除错误提示，use multiple except blocks, and only 'catch' the exceptions you intend to handle，如果有输入例外，用except来排出CLI错误提示，做入交互。try写出错那行的代码，也就是执行到哪里例外会影响继续执行，except抓出错误和定制交互提示。\n",
    "\n",
    "后来又想到，因为get要先返回一个值，如果get可以返回有效值，说明输入有效，那么get返回第一个值是什么？但这样会是不是循环验证？尝试发现get返回的response是封装在def里面，如何直接调用单个变量？"
   ]
  },
  {
   "cell_type": "markdown",
   "metadata": {},
   "source": [
    "### 下步行动\n",
    "1. 修改dict文件来传递参数"
   ]
  }
 ],
 "metadata": {
  "kernelspec": {
   "display_name": "Python [default]",
   "language": "python",
   "name": "python3"
  },
  "language_info": {
   "codemirror_mode": {
    "name": "ipython",
    "version": 3
   },
   "file_extension": ".py",
   "mimetype": "text/x-python",
   "name": "python",
   "nbconvert_exporter": "python",
   "pygments_lexer": "ipython3",
   "version": "3.6.1"
  }
 },
 "nbformat": 4,
 "nbformat_minor": 2
}
