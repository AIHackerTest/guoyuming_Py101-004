{
 "cells": [
  {
   "cell_type": "markdown",
   "metadata": {},
   "source": [
    "this note is written on jupyter web extension. Two problems arised when using this:\n",
    "\n",
    "1. If the contents are copied to this online editor, some Chinese punctuations will be interpreted badlly. \n",
    "2. File created by this kernel will be updated on Github repository, but not sync to my local folders.\n",
    "\n",
    "When I learning Jupyter note book, I browsed tons of docs, just to find some basic usage, but with frustration I found the most efficient way to do it may come from using it directly, like what I am doing now. At this stage, I noticed that Jupyter is most useful because it can embed codes in markdown passages, which is easy to be read and communicted by other learners. "
   ]
  },
  {
   "cell_type": "markdown",
   "metadata": {},
   "source": [
    "在写完1.0版本天气之后，决定两方面迭代：一是将主程序用 def 封装，每个if 下面都执行一个 def，而非1.0版本 if 下面直接跑命令。二是升级写笔的工具，md换成jupyter，更适合展示代码。Jupyter写笔记已经写在这里，接下来重点介绍升级记录。"
   ]
  },
  {
   "cell_type": "code",
   "execution_count": null,
   "metadata": {
    "collapsed": true
   },
   "outputs": [],
   "source": [
    "weather_dict = {} # create a dict variable\n",
    "with open(file1) as data_file:\n",
    "    for line in data_file:\n",
    "        key, value = line.strip().split(',') \n",
    "\n",
    "while True:\n",
    "    user_search = input('> ') # input放在while下面就让用户不断输入，再后面放if就是判断用户输入是否满足某些条件\n",
    "\n",
    "    if user_search in weather_dict.keys(): # use dict.keys() rather than dict.items()\n",
    "        weather_result = weather_dict[user_search]\n",
    "        history_entry = str(f\"{user_search} 的天气状况为 {weather_result}\") # 神来之笔\n",
    "        history_list.append(history_entry)\n",
    "        print(history_entry)\n",
    "        \n",
    "    elif user_search == '帮助':\n",
    "        print(\"\"\"直接输入城市名称查询对应天气，\n",
    "        输入'帮助'，查看如何使用\n",
    "        输入‘历史’，查看搜索记录\n",
    "        输入'退出'，退出程序\n",
    "        \"\"\")\n",
    "        \n",
    "# ……"
   ]
  },
  {
   "cell_type": "markdown",
   "metadata": {},
   "source": [
    "卡住的地方有两处， 第一次在将txt文档转换成dict类型数据，文档每找到直接方法，google一下有案例。案例有坑，因为没有一个案例的数据类型、需求和你一样，所以用print大法一步步尝试，每次代码改变，都print一下，类似控制其他变量，专注最小行动。最后一句："
   ]
  },
  {
   "cell_type": "code",
   "execution_count": null,
   "metadata": {
    "collapsed": true
   },
   "outputs": [],
   "source": [
    "key, value = line.strip().split(',') "
   ]
  },
  {
   "cell_type": "markdown",
   "metadata": {},
   "source": [
    "让你在创建字典之后，将key和value依次赋值，strip()让你去掉字段中的换行、空格；split()让你以括号内的字符分割文字。创建好字典之后，第二次卡在mapping。前用的好端端的if...in 语句忘了，这次看文档中说looping a dict, 写出了 for ... in 语句，结果每次不管输入什么词，都出来整个dict，因为for……in 执行的是历遍变量中的所有取值。而且在打印结果时候，用print(d[key])这样嵌套语句，开始没有写对，一直报错，后来证明可行。\n",
    "\n",
    "最后储存并输出历史记录，已经忘了之前怎么做，想过用txt储存，想想要调用新的txt文件就想偷懒，那用list储存吧。之后代码几乎是自主心智一气呵成，模糊思路如下：\n",
    "\n",
    "1. 先建一个list，这是Ch0学到的，函数操作前先把素材／数据准备好。list结构不熟悉，但list里面可以放str吧\n",
    "2. str怎么储存？要放在变量里吧，那创建一个“历史条目”的变量，str如何与动态的城市、天气结合，用f ＋ {}的特性，这是3.6.2更新的。每个条目每搜索一次，就加入list里面，用append.\"历史条目\"方法喽。\n",
    "3. 查询结果，顺便把“历史条目”print出来。\n",
    "\n",
    "还有一个细节，如何让用户持续输入，而非输入一次程序就自动结束，这个简单：把input 放在while true 下面，while true 创建一个无限循环，而且没有客观条件打破这个循环，用户不想，永远不会退出程序。但这也意味着在写了while true之后，要在用户输入中有设置退出机制，比如用exit语句。"
   ]
  },
  {
   "cell_type": "markdown",
   "metadata": {},
   "source": [
    "之前看过别人写的程序，发现if下面如果执行复杂命令，比如if下面调用def 优雅简洁，并且def 封装每个输入命令，也方便之后调用。遂有如下迭代："
   ]
  },
  {
   "cell_type": "code",
   "execution_count": null,
   "metadata": {
    "collapsed": true
   },
   "outputs": [],
   "source": [
    "def start():\n",
    "    print(\"欢迎来到小明天气，输入城市名称直接查询天气,或输入‘帮助’查看用户指南\")   \n",
    "    \n",
    "    while True:\n",
    "        user_input = input(\"> \")\n",
    "    \n",
    "        if user_input == '帮助':\n",
    "            user_guide()\n",
    "\n",
    "    \n",
    "        elif user_input == '退出':\n",
    "            user_quit()\n",
    "        \n",
    "        elif user_input == '历史':\n",
    "            user_history()\n",
    "\n",
    "    \n",
    "        elif user_input in weather_dict.keys():\n",
    "            user_search(user_input)\n",
    "\n",
    "    \n",
    "        else:\n",
    "            user_abnormal()\n",
    "\n",
    "start()"
   ]
  },
  {
   "cell_type": "markdown",
   "metadata": {},
   "source": [
    "卡住的两处：\n",
    "\n",
    "1. 用户输入之后，loop迭代停不下来；好吧，我已经忘记当时代码状态了，改变代码之后，def 一个主程序，将user_input 放入主程序，如此实现用户持续输入，直到exit(0)条件满足\n",
    "2. 问题1解决之后，输入各个指令正常，除了查询功能，输入任何城市名称都跑“异常输入”程序；尝试把构建字典放进def，报其他错误；str()输入字段，没变化，因为用户输入本身就是str类型数据。最后将def user_search():  改成def user_search(user_input): if 括号中同样加上user_input，跑通。因为def user_search()函数本身需要包含变量，所以括号中要有变量名称，否则定义不完整，同时无法触发函数。具体实现如下："
   ]
  },
  {
   "cell_type": "code",
   "execution_count": null,
   "metadata": {
    "collapsed": true
   },
   "outputs": [],
   "source": [
    "def user_search(user_input):    \n",
    "    weather_result = weather_dict[user_input]\n",
    "    history_entry = str(f\"{user_input} 的天气状况为 {weather_result}\") # 神来之笔\n",
    "    history_list.append(history_entry)\n",
    "    print(history_entry)"
   ]
  },
  {
   "cell_type": "markdown",
   "metadata": {},
   "source": [
    "对比两版本看来，执行语句部分没有变化，变化在于所有block加上了 def＋函数：封装；while True的内容上下用 def start（）包裹，if 条件语句的具体命令换成了def ＋ 函数。只是注意细节在有些函数要带有参数，比如def user_search(user_input)，有些直接输出即可。\n",
    "\n",
    "接下来修改细节，谢谢Michael教练提出：\n",
    "1. 直接读取 argv 作为输入，但如果没有带入参数，其他用户是否知道该程序应该如何运行？\n",
    "    对，是为用户考虑不周，想到用户用程序一开始就进入了CLI的欢迎界面，而考虑到如果未打开CLI的用户如何操作。这个提示最好外挂在程序使用说明当中。如何启动程序后提示呢？因为启动程序时dict已经加载创建好了。或者先跑程序，让用户手动加载字典？\n",
    "\n",
    "2. 直接打印 list 类型，会有中括号 [ ] 的哦，是否需要再处理一下？\n",
    "    思路是，如何直接输出list之内的元素，而非整个list。list内元素如果可以按行输出，更好啦。之前是建立一个txt文档，还是想想有无更简洁办法。这要查询list功能。想到“for item in list\"这样的语句，试验一下。经过试验，发现如果在CLI直接跑代码行不通，可能我还没有处理好细节，同样代码在editor里面跑，行的通。但不妨碍有些简单代码可以先不写在editor里面，直接在CLI环境测试。代码如下："
   ]
  },
  {
   "cell_type": "code",
   "execution_count": null,
   "metadata": {
    "collapsed": true
   },
   "outputs": [],
   "source": [
    "def user_history():\n",
    "    print(\"你查询过以下城市：\")\n",
    "    for history_entry_saved in history_list:\n",
    "        print(history_entry_saved)"
   ]
  },
  {
   "cell_type": "markdown",
   "metadata": {},
   "source": [
    "3. 如果多次没有查询到结果的话，用户可能不知道该输入什么哦，是否可以再完善一下帮助提示？\n",
    "    完善可以很智能，也可以直白。智能比如“多次输入未得到结果”，是不是判断用户输入次数>N时候，触发另外一个命令，提示更多；直白如在帮助中多家几句话。"
   ]
  }
 ],
 "metadata": {
  "kernelspec": {
   "display_name": "Python [default]",
   "language": "python",
   "name": "python3"
  },
  "language_info": {
   "codemirror_mode": {
    "name": "ipython",
    "version": 3
   },
   "file_extension": ".py",
   "mimetype": "text/x-python",
   "name": "python",
   "nbconvert_exporter": "python",
   "pygments_lexer": "ipython3",
   "version": "3.6.1"
  }
 },
 "nbformat": 4,
 "nbformat_minor": 2
}
