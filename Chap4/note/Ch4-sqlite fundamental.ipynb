{
 "cells": [
  {
   "cell_type": "markdown",
   "metadata": {},
   "source": [
    "Until Sep 10, this version of script achieved the following fucntions：\n",
    "1. Create db file with a table in it, colunms established\n",
    "2. Read, Create, Delete data in the table\n",
    "3. Connect with the weather programme, save responses from api and fetch them \n",
    "4. If user has already inquire certain key, fetch it from the db instead of call api a second time\n",
    "\n",
    "### 复盘探索过程\n",
    "1. 还是少了尝试，当看到某段代码范例时，只是在脑海中想象有没有看懂，而没有亲自在编辑器里实现，这样会有两个坏处：\n",
    "    - 以为自己看懂了，但组装到大block里面错误百出，调试起来没有最小mvp有效率，浪费时间\n",
    "    - 以为自己看懂了，很多时候有用而不自知，弃之，陷入茫然搜索\n",
    "2. 想先实现最简单的功能，最小mvp，基础版任务，再探究进阶玩法，遇到进阶资料时不看；进阶资料会不会更好得帮你实现基础任务？\n",
    "\n",
    "### 知识点回忆\n",
    "1. 建立数据库、写入表格、定位到某行读取、插入、提交保存、关闭，其实类似你在图形界面操作excel表格，点击鼠标；在sqlite中换成了命令行。难在你不用插件无法看见db文件，如果想象不出table的样子，可以在纸上画出图表。\n",
    "2. 在fetchone 语句查找某行，类似字典key＝value对应，表格基本的查找功能\n",
    "3. 每次对表格更改之后，要像在图形界面一个样点保存按钮，只是sqlite里面换成commit语句－此又是惯常图形界面思维带到命令行牵绊"
   ]
  },
  {
   "cell_type": "code",
   "execution_count": null,
   "metadata": {
    "collapsed": true
   },
   "outputs": [],
   "source": []
  }
 ],
 "metadata": {
  "kernelspec": {
   "display_name": "Python [default]",
   "language": "python",
   "name": "python3"
  },
  "language_info": {
   "codemirror_mode": {
    "name": "ipython",
    "version": 3
   },
   "file_extension": ".py",
   "mimetype": "text/x-python",
   "name": "python",
   "nbconvert_exporter": "python",
   "pygments_lexer": "ipython3",
   "version": "3.6.1"
  }
 },
 "nbformat": 4,
 "nbformat_minor": 2
}
