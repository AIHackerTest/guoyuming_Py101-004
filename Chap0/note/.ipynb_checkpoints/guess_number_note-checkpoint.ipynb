{
 "cells": [
  {
   "cell_type": "markdown",
   "metadata": {},
   "source": [
    "先尝试写出数据验证脚本："
   ]
  },
  {
   "cell_type": "code",
   "execution_count": null,
   "metadata": {
    "collapsed": true
   },
   "outputs": [],
   "source": [
    "while True:\n",
    "    user_input = input('Please enter a number > ')\n",
    "    \n",
    "    if user_input == 'quit':\n",
    "        exit(0)\n",
    "    \n",
    "    if user_input != 'quit':\n",
    "        try:\n",
    "            value = int(user_input)\n",
    "        except ValueError:\n",
    "            print(\"This is not a number\")\n",
    "            \n",
    "        \n",
    "\n",
    "    print(user_input)"
   ]
  },
  {
   "cell_type": "markdown",
   "metadata": {},
   "source": [
    "#### 直白思路：\n",
    "数据验证部分：\n",
    "\n",
    "1. 用户总要输入，放一个输入功能；\n",
    "2. 用try来做数据类型验证，try ＝ to see if the data tpyed in is an integer, except = if not, print error message and stop exerting the script. \n",
    "3. If true (is an integer), continue to exert the script. \n",
    "\n",
    "功能模块部分：\n",
    "1. 做数据验证时，发现while true不断循环，只能关闭窗口退出，于是乎，加入一个输入quit，退出功能。因为quit是唯一值，所以 user_input = quit = 执行退出，不等于quit时执行输入验证。至此完整数据验证程序写好。"
   ]
  },
  {
   "cell_type": "code",
   "execution_count": null,
   "metadata": {
    "collapsed": true
   },
   "outputs": [],
   "source": [
    "再把之前写过的猜数字的核心模块包裹在数据验证前后：因为顺序时，先生成一个随机数字－判断用户输入类型－判断输入是否正确。"
   ]
  },
  {
   "cell_type": "code",
   "execution_count": null,
   "metadata": {
    "collapsed": true
   },
   "outputs": [],
   "source": [
    "from random import randint\n",
    "\n",
    "number_go_guess = randint(0,9)\n",
    "\n",
    "print(number_go_guess)\n",
    "\n",
    "while True:\n",
    "    user_input = input('Please enter a number > ')\n",
    "    \n",
    "    if user_input == 'quit':\n",
    "        exit(0)\n",
    "    \n",
    "    if user_input != 'quit':\n",
    "        try:\n",
    "            value = int(user_input)\n",
    "        except ValueError:\n",
    "            print(\"This is not a number\")\n",
    "            continue\n",
    "       \n",
    "        user_input = int(user_input) # change the original string input to integer, so that amount of input can be compared \n",
    "        \n",
    "        elif user_input < number_go_guess:\n",
    "            print(\"小了，请再猜一次\")\n",
    "        \n",
    "        elif user_input > number_go_guess:\n",
    "            print(\"大了，请再猜一次\")\n",
    "            \n",
    "        elif user_input == number_go_guess:\n",
    "            print(\"厉害，猜对了\")"
   ]
  },
  {
   "cell_type": "markdown",
   "metadata": {},
   "source": [
    "开始只是在数据验证代码下面，加上if 比大小，结果输入非数字时，报错：\n",
    "> user_input = int(user_input)\n",
    "ValueError: invalid literal for int() with base 10: 'h'\n",
    "\n",
    "因为输入非数字，执行到except之后，会继续执行代码（所有while下面缩进行）到最后一行，所以except之后紧接着执行：user_input = int(user_input)，字符串无法转换成数字，所以报错。学网上一段代码，加上continue，好了。continue statement作用如下：\n",
    "> ...returns the control to the beginning of the current loop. When encountered, the loop starts next iteration without executing the remaining statements in the current iteration. ...used in both while and for loops.\n",
    "\n",
    "在while或for 循环中，continue跳过执行它之后代码（在这个例子中就是 转换数据类型－比大小 部分）回到循环开头（while重新开始），所以用户输入非数字，except报错之后，continue回开头，第一句代码：输入一个数字；以此实现循环输入验证。\n",
    "\n",
    "从 try: value = int(user_input)到 user_input = int(user_input)，延续了验证int，转换int的做法；中途except算是错误数据排查。\n",
    "\n",
    "用户不要不限次数地猜数字，设置10次机会猜中，每猜一次机会减1:"
   ]
  },
  {
   "cell_type": "code",
   "execution_count": null,
   "metadata": {
    "collapsed": true
   },
   "outputs": [],
   "source": [
    "    \n",
    "    if user_input != 'quit':\n",
    "        try:\n",
    "            value = int(user_input)\n",
    "        except ValueError:\n",
    "            print(\"This is not a number\")\n",
    "            continue\n",
    "       \n",
    "        user_input = int(user_input)\n",
    "\n",
    "        choice_left = 10\n",
    "        \n",
    "        while choice_left > 0:   \n",
    "                     \n",
    "            choice_left = choice_left - 1\n",
    "        \n",
    "            if user_input < number_go_guess:               \n",
    "                print(f\"小了，请再猜一次，你还有 {choice_left} 次机会\")            \n",
    "        \n",
    "            elif user_input > number_go_guess:                \n",
    "                print(f\"大了，请再猜一次，你还有 {choice_left} 次机会\")\n",
    "            \n",
    "            elif user_input == number_go_guess:\n",
    "                print(\"厉害，猜对了\")\n",
    "                break"
   ]
  },
  {
   "cell_type": "markdown",
   "metadata": {},
   "source": [
    "此段代码，如果用户输入数字，通过验证，但没有猜对，执行print，类似：大了，请再猜一次，你还有9次机会、大了，请再猜一次，你还有8次机会……大了，请再猜一次，你还有0次机会，也就是到choice_left == 0时，while不再循环。因为while下面的if是这样的，如果满足if，就会一直执行if下面的语句－回到while开头－执行if下面语句－回到while开头，比如输入9，第一次执行完，回到while开头，因为默认输入还是9，所以又满足同样if条件，继续执行，直到while不满足才结束。\n",
    "\n",
    "解决办法也很简单，把user_input放在while里面，实现重复输入，while每次循环开始，用户输入一个数字重新判断。只是因为验证数据模块时，已经定义过user_input，这里如何重复调用不冲突？直接放在while下面，while循环之外的限制和处理都失效。一个想法是封装user_input函数，更好的方法是连数据验证一起封装，来试试！"
   ]
  },
  {
   "cell_type": "code",
   "execution_count": null,
   "metadata": {
    "collapsed": true
   },
   "outputs": [],
   "source": [
    "#!/usr/bin/env python3\n",
    "# -*- coding: utf-8 -*- \n",
    "\n",
    "from random import randint\n",
    "\n",
    "number_go_guess = randint(0,9)\n",
    "\n",
    "print(number_go_guess)\n",
    "\n",
    "def valid_input(user_input):\n",
    "    while True:\n",
    "        user_input = input('Please enter a number > ')\n",
    "    \n",
    "        if user_input == 'quit':\n",
    "            exit(0)\n",
    "    \n",
    "        if user_input != 'quit':\n",
    "            try:\n",
    "                value = int(user_input)\n",
    "            except ValueError:\n",
    "                print(\"This is not a number\")\n",
    "                continue\n",
    "            else:\n",
    "                return int(user_input)\n",
    "                break"
   ]
  },
  {
   "cell_type": "markdown",
   "metadata": {},
   "source": [
    "你会发现，和本文第一段数字验证代码几乎一样，只是用到了def 封装，定义了一个函数，函数取值（user_input），因为函数应该要输出或返回某个值，所以多一段else代码，意思是如果用户输入数字，返回用户输入，将输入转化为整数数据类型，由此结束所在的while loop。之后代码变得简单，将比大小代码接上："
   ]
  },
  {
   "cell_type": "code",
   "execution_count": null,
   "metadata": {
    "collapsed": true
   },
   "outputs": [],
   "source": [
    "choice_left = 10\n",
    "        \n",
    "while choice_left > 0:\n",
    "    \n",
    "    number_guessed = valid_input('> ')\n",
    "#    number_guessed = int(number_guessed)  # equals to int(user_input)\n",
    "    \n",
    "    \n",
    "    choice_left = choice_left - 1\n",
    "    \n",
    "    if number_guessed < number_go_guess:               \n",
    "            print(f\"小了，请再猜一次，你还有 {choice_left} 次机会\")            \n",
    "        \n",
    "    elif number_guessed > number_go_guess:\n",
    "        print(f\"大了，请再猜一次，你还有 {choice_left} 次机会\")\n",
    "    \n",
    "    elif number_guessed == number_go_guess:\n",
    "        print(\"厉害，猜对了\")\n",
    "        break"
   ]
  },
  {
   "cell_type": "markdown",
   "metadata": {},
   "source": [
    "本来while循环下面第一句是这样写的：number_guessed = valid_input，想着用来比大小的数字，是个变量，用数字验证函数的结果给它赋值，错误提示：\n",
    "> TypeError: '<' not supported between instances of 'function' and 'int'\n",
    "\n",
    "也就是函数无法和数字比大小，真正比的是函数输出的数字和随机数字，所以：number_guessed = valid_input('> '); 这里不明白的是，括号里可以是任何东西（待验证），如果括号无内容，提示：\n",
    "> TypeError: valid_input() missing 1 required positional argument: 'user_input'\n",
    "\n",
    "也就是，函数带有一个参数，这个参数是用户输入的内容；而在此再次调用函数时候，括号里要带有一个positional argument，这是什么？它可以是哪些数据、名称？可以是任何东西，只要有占位就行了吗？\n",
    "\n",
    "还尝试过，如果没有引入number_guessed这个新变量，while下面直接调用valid_input('> ')，然后if 里面写 if valid_input('> ') > number_go_guess，也会报错。\n",
    "\n",
    "总结：\n",
    "1. def 可带可不带参数，带了参数，之后一直要带着参数调用\n",
    "2. 此案例中，continue跳过之后代码，从while开始重新执行；break结束整个while loop\n",
    "3. 数据流，从头到尾，从第一行到最后，如果要能做不同处理，数据类型保持一致\n",
    "\n",
    "下一步行动：\n",
    "1. 10次未猜中时，放出提示语，不要退出，让用户选择是否重新开始\n",
    "2. 1次就猜中的反馈"
   ]
  }
 ],
 "metadata": {
  "kernelspec": {
   "display_name": "Python [default]",
   "language": "python",
   "name": "python3"
  },
  "language_info": {
   "codemirror_mode": {
    "name": "ipython",
    "version": 3
   },
   "file_extension": ".py",
   "mimetype": "text/x-python",
   "name": "python",
   "nbconvert_exporter": "python",
   "pygments_lexer": "ipython3",
   "version": "3.6.1"
  }
 },
 "nbformat": 4,
 "nbformat_minor": 2
}
