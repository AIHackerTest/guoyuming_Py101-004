{
 "cells": [
  {
   "cell_type": "markdown",
   "metadata": {},
   "source": [
    "# Ch3 内网可用的Web app\n",
    "## Note of Notes\n",
    "1. 每个15－20分钟，记录自己探索的过程，比如搜索路径、思考点\n",
    "2. 每次15分钟过完卡包，戳手开始任务前，先过一遍如下问题：\n",
    "- 实现这版程序的关键是什么？难点是什么？\n",
    "- 为什么这对你来说是难点？\n",
    "- 如何突破这个难点？\n",
    "- 完成这版程序，容易踩的坑是什么？\n",
    "- 完成这版程序，有什么通用的模式（即永久性解决所有同类问题的方法）？\n",
    "\n",
    "关键是静态网页制作和后端数据交互，如同卡包中示意图，flask连接了网页和数据库，难点在：\n",
    "1. 浏览器发出请求是request，如何将response嵌套在html之内？\n",
    "2. flask如何写数据、读数据？\n",
    "3. 这里所谓的数据库是什么？API对面的服务商吗？还是自己本地？\n",
    "\n",
    "看文档解决一个问题，跑完一个mvp，不要急着惯性看文档，任务优先，停下来想下一步解决什么问题？最直接找引导可以看卡包。\n",
    "\n",
    "## Web Framework\n",
    "发送数据给你的硬件和软件，都叫web server\n",
    "这里两层请求了，API－别人那里和web server－你自己做一个；如果调api，get返回json／text，如果看网页，get返回html\n",
    "response code：200，204，\n",
    "post usually add a new record in the database\n",
    "\n",
    "rquests get 在拿html和拿api上有何不同？\n",
    "\n",
    "### Flask MVP\n",
    "不深究类的使用，代码容易，不要犯愚蠢错误，大小写、文件路径，每次跑之前double check确认，善待你的mac。细节，ctrl＋c，mac上有ctrl键，不是command键！跑出helloworld 的网页，下一步看如何拿回一个html。那你先建一个html文件，写好之后放哪里？\n",
    "\n",
    "写一个只有p的html，先进入服务器－网页交互阶段\n",
    "\n",
    "### 服务器－网页交互\n",
    "用debug模式，每次改代码－刷新就可以看到跑动实况，绕过CLI，越早开越好。卡包文档好像假设你是从建好的网站取东西，也就是你的html文件已经在服务器上了，可是doc中没有看出来，如何读取本地的html，几番搜索，用到这段代码："
   ]
  },
  {
   "cell_type": "code",
   "execution_count": null,
   "metadata": {
    "collapsed": true
   },
   "outputs": [],
   "source": [
    "from flask import Flask, request\n",
    "# set the project root directory as the static folder, you can set others.\n",
    "app = Flask(__name__, static_url_path='')\n",
    "\n",
    "@app.route('/')\n",
    "def root():\n",
    "    return app.send_static_file('index.html')"
   ]
  },
  {
   "cell_type": "markdown",
   "metadata": {},
   "source": [
    "static_url_path=''用来告诉flask，按照‘’中路径来找静态html，／表示在当前文件夹中找，找到，用send_static_file来读出文件。如果没有这两个设置，返回404，url错误。实现之前，妄想通过改文件名来跑通，又是思维上偷懒。现在能够读取html文件了，那么先把它完善，放入段落、输入框、按钮，前端页面就做好。只是如何变成动态交互呢？比如点击帮助，页面出现帮助？\n",
    "\n",
    "命令行返回的结果，如何展示在html页面中？\n",
    "\n",
    "有想到按钮－返回结果用好几个html来展示，比如帮助，调用专门帮助的页面。而后来思维误区，看任务视频界面像是同一个html中读出不同数据；如果这时我看到最后一个template卡包，可能会回到建立多个html思路，可是我没看，我以为那是css template，美化界面留到mvp之后。就这样，我偏离正确思路。\n",
    "\n",
    "Ch2做过命令行，用的是if user_input，如何把这个和按钮连接？\n",
    "\n",
    "这个问题，开始觉得多翻几个doc链接，发现里面啥都有了，还是费力啃下来吧。因为虽然搜索更快得到结果，但千人千面，别人问题场景并不适合你的问题，加之直接看问题答案，容易陷入盲人摸象，know how but don't know why。只是数个小时读docs＋搜索关键词，都没有出来可行方案，在群里看到北京Hugo的代码，有了启发，主要是这一句：request.args.get('help') == \"帮助\":\n",
    "\n",
    "html要通过form action和flask交互，我在写静态网页时，只想着把button放上去，只有button或input type无法交互，w3c中有一句这么说：\n",
    "> The action attribute defines the action to be performed when the form is submitted\n",
    "\n",
    "form中数据提交时，action定义了form的行为？行为这个词让我想到函数，执行某特性或功能的block。所以按钮要和数据库发生交互，需要form 有 method 和 action参数。"
   ]
  },
  {
   "cell_type": "markdown",
   "metadata": {},
   "source": [
    "连猜带抄Hugo同学，拼凑完了代码，先占位总结：\n",
    "\n",
    "### 真正解决问题的点\n",
    "1. request.args.get('help') == \"帮助\"，类似这句，将submit和flask连接，带出不同html文件\n",
    "2. form method=GET, action=''，将request 和 flask 连接拿\n",
    "3. 总结1和2，先定义form 的method，告诉flask 我在form的操作时GET or POST，回到route，定义app的method（默认是GET），这是什么意思？也就是具体这端代码：route('/', method=['GET', 'POST'])；method之后，request.args.get('help') == \"帮助\"相当于建立一个dict类型陈述，将具体method的key和value对应，执行不同命令。\n",
    "\n",
    "### 坑\n",
    "1. render_template模版时， render_template(\"history.html\", history_list=history_list)，调用模版后面要跟上赋值，不然变量写不进去；\n",
    "2. print得到正确结果，而页面返回None，原因是引用的那个心知天气API函数，没有用return回一个str类型数据，而是坏习惯直接print内容，print没法写入html，所以得到天气结果，也写不进html。这样看，写入html的数据类型必须是str，还可以其他的吗？那么在告诉我，def写到最后，规范是用return会一个值，而非print；这样方便之后调用，不用像我这次一样，回到被调用的函数里改代码。\n",
    "\n",
    "### 继续巩固的知识点\n",
    "1. Jinja2模版\n",
    "2. http method，request，html forms\n",
    "3. 异常返回值处理\n",
    "4. request.args.get语句，还有其他方法实现这个连接吗？"
   ]
  },
  {
   "cell_type": "markdown",
   "metadata": {},
   "source": [
    "### 比上周进步\n",
    "1. 不急着看文档，跑MVP，先想想如何实现，画流程图之类"
   ]
  }
 ],
 "metadata": {
  "kernelspec": {
   "display_name": "Python [conda root]",
   "language": "python",
   "name": "conda-root-py"
  },
  "language_info": {
   "codemirror_mode": {
    "name": "ipython",
    "version": 3
   },
   "file_extension": ".py",
   "mimetype": "text/x-python",
   "name": "python",
   "nbconvert_exporter": "python",
   "pygments_lexer": "ipython3",
   "version": "3.6.1"
  }
 },
 "nbformat": 4,
 "nbformat_minor": 2
}
